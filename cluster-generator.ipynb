{
 "cells": [
  {
   "cell_type": "code",
   "execution_count": 5,
   "metadata": {},
   "outputs": [
    {
     "name": "stdout",
     "output_type": "stream",
     "text": [
      "[[29544.74582786 35061.47411963]]\n"
     ]
    }
   ],
   "source": [
    "import pyproj\n",
    "import numpy as np\n",
    "import scipy.spatial.distance\n",
    "\n",
    "import csv\n",
    "import random\n",
    "\n",
    "svy21 = pyproj.Proj(init='epsg:3414')  # produces x, y from lng, lat\n",
    "\n",
    "postals = None\n",
    "\n",
    "picked_loc = np.array([svy21(103.847199, 1.333358)])\n",
    "print(picked_loc)\n",
    "\n",
    "infile = \"./postal_code_to_address.csv\"\n",
    "with open(infile) as csvfile:\n",
    "    csvreader = csv.reader(csvfile, delimiter=',', quotechar='\"')\n",
    "    next(csvreader)\n",
    "    contents = list(csvreader)\n",
    "    csvfile.close()\n",
    "\n",
    "    \n",
    "locations = list(map(lambda x: [x[3], x[4]], contents))\n",
    "\n",
    "dist = zip([c[0] for c in contents], scipy.spatial.distance.cdist(locations, picked_loc))\n"
   ]
  },
  {
   "cell_type": "code",
   "execution_count": 6,
   "metadata": {},
   "outputs": [
    {
     "name": "stdout",
     "output_type": "stream",
     "text": [
      "[('310141', array([272.29879766])), ('310520', array([44.55209684])), ('310480', array([204.98902636])), ('310500', array([56.91991653])), ('310490', array([160.51842503])), ('310530', array([137.47202015])), ('312147', array([235.6061721])), ('311147', array([250.03003188])), ('319398', array([54.67135267])), ('313084', array([267.37847407])), ('311146', array([214.06192387])), ('319641', array([105.78981785])), ('319641', array([90.51180091])), ('310145', array([222.57644614])), ('310146', array([154.30926485])), ('310147', array([264.47927532])), ('310156', array([238.42230683])), ('310157', array([232.33987811])), ('310152', array([164.35080692])), ('310150', array([287.3821129])), ('310178', array([231.18094502])), ('310177', array([193.78770607])), ('311078', array([180.17380987])), ('311079', array([153.61756436])), ('312079', array([170.30035657])), ('313079', array([210.45151141])), ('314079', array([261.52785607])), ('312078', array([224.45887894])), ('312084', array([268.77271897])), ('311084', array([219.96968381])), ('310175', array([16.70761563])), ('310190', array([172.75451408])), ('310183', array([185.48500766])), ('310184', array([288.63067772])), ('310153', array([165.85102283])), ('310154', array([115.26471323])), ('310155', array([185.15049031])), ('311153', array([222.11376191])), ('310084', array([212.17163719])), ('310086', array([243.3936848])), ('310083', array([283.04258467])), ('310080', array([256.71255979])), ('310470', array([279.48457264])), ('311156', array([216.56334858])), ('310490', array([169.07660361])), ('310490', array([111.8216287])), ('310084', array([212.17163719])), ('310145', array([235.04778623])), ('310146', array([166.67424917])), ('310147', array([270.21022619])), ('310152', array([170.84796305])), ('310157', array([230.98926962]))]\n"
     ]
    }
   ],
   "source": [
    "filtered_locs = list(filter(lambda x: x[1] < 300, dist))\n",
    "print(filtered_locs)"
   ]
  },
  {
   "cell_type": "code",
   "execution_count": null,
   "metadata": {},
   "outputs": [],
   "source": []
  }
 ],
 "metadata": {
  "kernelspec": {
   "display_name": "Python 3",
   "language": "python",
   "name": "python3"
  },
  "language_info": {
   "codemirror_mode": {
    "name": "ipython",
    "version": 3
   },
   "file_extension": ".py",
   "mimetype": "text/x-python",
   "name": "python",
   "nbconvert_exporter": "python",
   "pygments_lexer": "ipython3",
   "version": "3.6.5"
  }
 },
 "nbformat": 4,
 "nbformat_minor": 2
}
